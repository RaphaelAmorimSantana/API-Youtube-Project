{
 "cells": [
  {
   "cell_type": "code",
   "execution_count": 1,
   "id": "43d822d0",
   "metadata": {},
   "outputs": [],
   "source": [
    "#to use API youtube\n",
    "from googleapiclient.discovery import build\n",
    "\n",
    "#to transform Data\n",
    "import pandas as pd\n",
    "\n",
    "#To manipulate dates\n",
    "import isodate"
   ]
  },
  {
   "cell_type": "code",
   "execution_count": 2,
   "id": "ebe62730",
   "metadata": {},
   "outputs": [],
   "source": [
    "api_key = 'Put your API KEY from google here'"
   ]
  },
  {
   "cell_type": "code",
   "execution_count": 3,
   "id": "39f216c1",
   "metadata": {},
   "outputs": [],
   "source": [
    "channel_ids = ['UCyIeTK4ouP6v3dlwXK-b3cg' #Cerrado Aquarios\n",
    "               ]"
   ]
  },
  {
   "cell_type": "code",
   "execution_count": 4,
   "id": "5be201f8",
   "metadata": {},
   "outputs": [],
   "source": [
    "api_service_name = \"youtube\"\n",
    "api_version = \"v3\"\n",
    "\n",
    "\n",
    "    # Get credentials and create an API client\n",
    "youtube = build(\n",
    "        api_service_name, api_version, developerKey=api_key)"
   ]
  },
  {
   "cell_type": "code",
   "execution_count": 5,
   "id": "e64a4455",
   "metadata": {},
   "outputs": [],
   "source": [
    "# Get channel statistics that I seted and create a Dataframe\n",
    "def get_channel_stats(youtube, channel_ids):\n",
    "\n",
    "    all_data = []\n",
    "\n",
    "    request = youtube.channels().list(\n",
    "        part=\"snippet,contentDetails,statistics\",\n",
    "        id=','.join(channel_ids)\n",
    "    )\n",
    "    response = request.execute()\n",
    "\n",
    "    # loop through items\n",
    "    for item in response['items']:\n",
    "     data = {'channelName': item['snippet'] ['title'],\n",
    "            'subscribers': item['statistics'] ['subscriberCount'],\n",
    "            'views': item['statistics'] ['viewCount'],\n",
    "             'totalVideos': item['statistics'] ['videoCount'],\n",
    "            'playlistId': item['contentDetails'] ['relatedPlaylists'] ['uploads']\n",
    "            }\n",
    "\n",
    "    all_data.append(data)\n",
    "\n",
    "    return pd.DataFrame(all_data)"
   ]
  },
  {
   "cell_type": "code",
   "execution_count": 6,
   "id": "f75b72c1",
   "metadata": {},
   "outputs": [],
   "source": [
    "channel_stats = get_channel_stats(youtube, channel_ids)"
   ]
  },
  {
   "cell_type": "code",
   "execution_count": 7,
   "id": "eae0b7f4",
   "metadata": {},
   "outputs": [
    {
     "data": {
      "text/html": [
       "<div>\n",
       "<style scoped>\n",
       "    .dataframe tbody tr th:only-of-type {\n",
       "        vertical-align: middle;\n",
       "    }\n",
       "\n",
       "    .dataframe tbody tr th {\n",
       "        vertical-align: top;\n",
       "    }\n",
       "\n",
       "    .dataframe thead th {\n",
       "        text-align: right;\n",
       "    }\n",
       "</style>\n",
       "<table border=\"1\" class=\"dataframe\">\n",
       "  <thead>\n",
       "    <tr style=\"text-align: right;\">\n",
       "      <th></th>\n",
       "      <th>channelName</th>\n",
       "      <th>subscribers</th>\n",
       "      <th>views</th>\n",
       "      <th>totalVideos</th>\n",
       "      <th>playlistId</th>\n",
       "    </tr>\n",
       "  </thead>\n",
       "  <tbody>\n",
       "    <tr>\n",
       "      <th>0</th>\n",
       "      <td>Cerrado Aquários</td>\n",
       "      <td>2020</td>\n",
       "      <td>270424</td>\n",
       "      <td>56</td>\n",
       "      <td>UUyIeTK4ouP6v3dlwXK-b3cg</td>\n",
       "    </tr>\n",
       "  </tbody>\n",
       "</table>\n",
       "</div>"
      ],
      "text/plain": [
       "        channelName subscribers   views totalVideos                playlistId\n",
       "0  Cerrado Aquários        2020  270424          56  UUyIeTK4ouP6v3dlwXK-b3cg"
      ]
     },
     "execution_count": 7,
     "metadata": {},
     "output_type": "execute_result"
    }
   ],
   "source": [
    "channel_stats"
   ]
  },
  {
   "cell_type": "code",
   "execution_count": 8,
   "id": "52fa2eb5",
   "metadata": {},
   "outputs": [
    {
     "name": "stdout",
     "output_type": "stream",
     "text": [
      "{'kind': 'youtube#playlistItemListResponse', 'etag': 'JgGdGP4OP4WiQKWjJ-y990oH-wQ', 'nextPageToken': 'EAAaBlBUOkNBVQ', 'items': [{'kind': 'youtube#playlistItem', 'etag': 'k5VqIHwHWVPm36CgmyZGF0mlw60', 'id': 'VVV5SWVUSzRvdVA2djNkbHdYSy1iM2NnLjBBcDl2SzI0MURJ', 'snippet': {'publishedAt': '2022-02-26T16:01:02Z', 'channelId': 'UCyIeTK4ouP6v3dlwXK-b3cg', 'title': 'Transmissão ao vivo de Cerrado Aquários', 'description': '', 'thumbnails': {'default': {'url': 'https://i.ytimg.com/vi/0Ap9vK241DI/default_live.jpg', 'width': 120, 'height': 90}, 'medium': {'url': 'https://i.ytimg.com/vi/0Ap9vK241DI/mqdefault_live.jpg', 'width': 320, 'height': 180}, 'high': {'url': 'https://i.ytimg.com/vi/0Ap9vK241DI/hqdefault_live.jpg', 'width': 480, 'height': 360}, 'standard': {'url': 'https://i.ytimg.com/vi/0Ap9vK241DI/sddefault_live.jpg', 'width': 640, 'height': 480}, 'maxres': {'url': 'https://i.ytimg.com/vi/0Ap9vK241DI/maxresdefault_live.jpg', 'width': 1280, 'height': 720}}, 'channelTitle': 'Cerrado Aquários', 'playlistId': 'UUyIeTK4ouP6v3dlwXK-b3cg', 'position': 0, 'resourceId': {'kind': 'youtube#video', 'videoId': '0Ap9vK241DI'}, 'videoOwnerChannelTitle': 'Cerrado Aquários', 'videoOwnerChannelId': 'UCyIeTK4ouP6v3dlwXK-b3cg'}, 'contentDetails': {'videoId': '0Ap9vK241DI', 'videoPublishedAt': '2022-02-26T16:01:02Z'}}, {'kind': 'youtube#playlistItem', 'etag': 'rqXYuF3bSqjbqhVzGpacMwVc4PA', 'id': 'VVV5SWVUSzRvdVA2djNkbHdYSy1iM2NnLkMwdzFfUmpqX1lr', 'snippet': {'publishedAt': '2021-10-21T15:00:52Z', 'channelId': 'UCyIeTK4ouP6v3dlwXK-b3cg', 'title': 'AquaRio, o maior aquário da America Latina em 4K', 'description': 'Siga nosso instagram: https://www.instagram.com/cerradoaquarios/\\n\\nNão entre aqui!!!: https://bit.ly/3dalRz2\\n\\nVídeo feito em outubro de 2021 no AquaRio no Rio de Janeiro, o foco desse vídeo é totalmente voltado para os aquários e os animais. Não esqueçam de se inscrever e curtir o vídeo, é muito importanta para nós.', 'thumbnails': {'default': {'url': 'https://i.ytimg.com/vi/C0w1_Rjj_Yk/default.jpg', 'width': 120, 'height': 90}, 'medium': {'url': 'https://i.ytimg.com/vi/C0w1_Rjj_Yk/mqdefault.jpg', 'width': 320, 'height': 180}, 'high': {'url': 'https://i.ytimg.com/vi/C0w1_Rjj_Yk/hqdefault.jpg', 'width': 480, 'height': 360}, 'standard': {'url': 'https://i.ytimg.com/vi/C0w1_Rjj_Yk/sddefault.jpg', 'width': 640, 'height': 480}, 'maxres': {'url': 'https://i.ytimg.com/vi/C0w1_Rjj_Yk/maxresdefault.jpg', 'width': 1280, 'height': 720}}, 'channelTitle': 'Cerrado Aquários', 'playlistId': 'UUyIeTK4ouP6v3dlwXK-b3cg', 'position': 1, 'resourceId': {'kind': 'youtube#video', 'videoId': 'C0w1_Rjj_Yk'}, 'videoOwnerChannelTitle': 'Cerrado Aquários', 'videoOwnerChannelId': 'UCyIeTK4ouP6v3dlwXK-b3cg'}, 'contentDetails': {'videoId': 'C0w1_Rjj_Yk', 'videoPublishedAt': '2021-10-21T15:00:52Z'}}, {'kind': 'youtube#playlistItem', 'etag': '7qB0_w8k8hJu7WPkVaecoktWZjU', 'id': 'VVV5SWVUSzRvdVA2djNkbHdYSy1iM2NnLjFWUzJVVExMc0hB', 'snippet': {'publishedAt': '2021-10-02T19:13:44Z', 'channelId': 'UCyIeTK4ouP6v3dlwXK-b3cg', 'title': 'Lesma do mar (bailarina ou vinagreira) - Assista o vídeo até o final!!!!!', 'description': 'Siga nosso instagram: https://www.instagram.com/cerradoaquarios/\\n\\nNão entre aqui!!!: https://bit.ly/3dalRz2\\n\\n\\nEsse animal é um molusco conhecido como lesma-do-mar ou vinagreira (Aplysia fasciata). É uma espécie muito comum nas águas aqui de Cabo Frio e em regiões de águas tropicais ou temperadas no geral, aparecem com mais frequência no verão. Possuem geralmente uma cor escura e se movimentam através dos parapódios que se assemelham a asas ou barbatanas. Alimenta-se de algas, são hermafroditas e podem atingir até 40cm. Eles também podem liberar esse líquido roxocomo mecanismo de defesa em caso de contato para afastar predadores.', 'thumbnails': {'default': {'url': 'https://i.ytimg.com/vi/1VS2UTLLsHA/default.jpg', 'width': 120, 'height': 90}, 'medium': {'url': 'https://i.ytimg.com/vi/1VS2UTLLsHA/mqdefault.jpg', 'width': 320, 'height': 180}, 'high': {'url': 'https://i.ytimg.com/vi/1VS2UTLLsHA/hqdefault.jpg', 'width': 480, 'height': 360}, 'standard': {'url': 'https://i.ytimg.com/vi/1VS2UTLLsHA/sddefault.jpg', 'width': 640, 'height': 480}, 'maxres': {'url': 'https://i.ytimg.com/vi/1VS2UTLLsHA/maxresdefault.jpg', 'width': 1280, 'height': 720}}, 'channelTitle': 'Cerrado Aquários', 'playlistId': 'UUyIeTK4ouP6v3dlwXK-b3cg', 'position': 2, 'resourceId': {'kind': 'youtube#video', 'videoId': '1VS2UTLLsHA'}, 'videoOwnerChannelTitle': 'Cerrado Aquários', 'videoOwnerChannelId': 'UCyIeTK4ouP6v3dlwXK-b3cg'}, 'contentDetails': {'videoId': '1VS2UTLLsHA', 'videoPublishedAt': '2021-10-02T19:13:44Z'}}, {'kind': 'youtube#playlistItem', 'etag': 'fmKpiSSBch8OD9JJFzdIKFf-B4g', 'id': 'VVV5SWVUSzRvdVA2djNkbHdYSy1iM2NnLlRWai1ZbWNJMVMw', 'snippet': {'publishedAt': '2021-07-29T15:16:52Z', 'channelId': 'UCyIeTK4ouP6v3dlwXK-b3cg', 'title': 'Unboxing Termostato Hopar modelo SH608', 'description': 'Siga nosso instagram: https://www.instagram.com/cerradoaquarios/\\n\\nNão entre aqui!!!: https://bit.ly/3dalRz2\\n\\nTERMOSTATO/AQUECEDOR TRANSPARENTE HOPAR SH-608 220V 100W\\n\\nOs termostatos Hopar são extremamente resistentes e precisos, mantendo a temperatura do seu aquário de acordo com a fauna e flora nele existentes.Variações bruscas de temperatura expõe peixes e invertebrados a doenças, muitas vezes fatais. Além disso, aumentos de temperatura planejados servem para curar doenças, como o ictio (doença dos pontos brancos) ou mesmo para acelerar o processo de ciclagem, favorecendo a formação da colônia de bactérias em seu filtro biológico.Altamente resistente e com precisão de 0,1 graus Celsius\\n\\nPrincipais Características:\\nPotencia: 100W;\\nMaterial de quartz\\nManutenção da temperatura constante entre 19ºC-33ºC;\\nComprimento total: 32 cm;\\nIndicado para aquários de 100 litros;\\nPara uso somente em aquários, totalmente submerso, fixado através de ventosas;', 'thumbnails': {'default': {'url': 'https://i.ytimg.com/vi/TVj-YmcI1S0/default.jpg', 'width': 120, 'height': 90}, 'medium': {'url': 'https://i.ytimg.com/vi/TVj-YmcI1S0/mqdefault.jpg', 'width': 320, 'height': 180}, 'high': {'url': 'https://i.ytimg.com/vi/TVj-YmcI1S0/hqdefault.jpg', 'width': 480, 'height': 360}, 'standard': {'url': 'https://i.ytimg.com/vi/TVj-YmcI1S0/sddefault.jpg', 'width': 640, 'height': 480}, 'maxres': {'url': 'https://i.ytimg.com/vi/TVj-YmcI1S0/maxresdefault.jpg', 'width': 1280, 'height': 720}}, 'channelTitle': 'Cerrado Aquários', 'playlistId': 'UUyIeTK4ouP6v3dlwXK-b3cg', 'position': 3, 'resourceId': {'kind': 'youtube#video', 'videoId': 'TVj-YmcI1S0'}, 'videoOwnerChannelTitle': 'Cerrado Aquários', 'videoOwnerChannelId': 'UCyIeTK4ouP6v3dlwXK-b3cg'}, 'contentDetails': {'videoId': 'TVj-YmcI1S0', 'videoPublishedAt': '2021-07-29T15:16:52Z'}}, {'kind': 'youtube#playlistItem', 'etag': 'mt0sV2yqc95ldQbZa-nYrlBu6x8', 'id': 'VVV5SWVUSzRvdVA2djNkbHdYSy1iM2NnLlgwcnFUQm5zQS04', 'snippet': {'publishedAt': '2021-07-22T11:14:12Z', 'channelId': 'UCyIeTK4ouP6v3dlwXK-b3cg', 'title': 'Bombinha de aquário, fonte, bebedouro de gato e etc, é boa?', 'description': 'Siga nosso instagram: https://www.instagram.com/cerradoaquarios/\\n\\nNão entre aqui!!!: https://bit.ly/3dalRz2', 'thumbnails': {'default': {'url': 'https://i.ytimg.com/vi/X0rqTBnsA-8/default.jpg', 'width': 120, 'height': 90}, 'medium': {'url': 'https://i.ytimg.com/vi/X0rqTBnsA-8/mqdefault.jpg', 'width': 320, 'height': 180}, 'high': {'url': 'https://i.ytimg.com/vi/X0rqTBnsA-8/hqdefault.jpg', 'width': 480, 'height': 360}, 'standard': {'url': 'https://i.ytimg.com/vi/X0rqTBnsA-8/sddefault.jpg', 'width': 640, 'height': 480}, 'maxres': {'url': 'https://i.ytimg.com/vi/X0rqTBnsA-8/maxresdefault.jpg', 'width': 1280, 'height': 720}}, 'channelTitle': 'Cerrado Aquários', 'playlistId': 'UUyIeTK4ouP6v3dlwXK-b3cg', 'position': 4, 'resourceId': {'kind': 'youtube#video', 'videoId': 'X0rqTBnsA-8'}, 'videoOwnerChannelTitle': 'Cerrado Aquários', 'videoOwnerChannelId': 'UCyIeTK4ouP6v3dlwXK-b3cg'}, 'contentDetails': {'videoId': 'X0rqTBnsA-8', 'videoPublishedAt': '2021-07-22T11:14:12Z'}}], 'pageInfo': {'totalResults': 57, 'resultsPerPage': 5}}\n"
     ]
    }
   ],
   "source": [
    "#you can find de Playlist_ID here\n",
    "\n",
    "request = youtube.playlistItems().list(\n",
    "        part=\"snippet, contentDetails\",\n",
    "        playlistId=\"UUyIeTK4ouP6v3dlwXK-b3cg\"\n",
    "    )\n",
    "response = request.execute()\n",
    "\n",
    "print(response)"
   ]
  },
  {
   "cell_type": "code",
   "execution_count": 9,
   "id": "62fd2caf",
   "metadata": {},
   "outputs": [],
   "source": [
    "#I defined here max results = 50 ids, but you change like you wish \n",
    "playlist_id = 'PLZQU7BP-EQuolApj2RfrPqePV64QHas4l'\n",
    "\n",
    "def get_video_ids(youtube, playlist_id):\n",
    "\n",
    "    video_ids = []\n",
    "\n",
    "    request = youtube.playlistItems().list(\n",
    "        part='snippet, contentDetails',\n",
    "        playlistId=playlist_id,\n",
    "        maxResults = 50 \n",
    "    )\n",
    "    response = request.execute()\n",
    "\n",
    "    for item in response['items']:\n",
    "        video_ids.append(item['contentDetails'] ['videoId'])\n",
    "\n",
    "    next_page_token = response.get('nextPageToken')\n",
    "    more_pages = True\n",
    "    \n",
    "    while more_pages:\n",
    "        if next_page_token is None:\n",
    "            more_pages = False\n",
    "        else:\n",
    "            request = youtube.playlistItems().list(\n",
    "                        part='contentDetails',\n",
    "                        playlistId = playlist_id,\n",
    "                        maxResults = 50,\n",
    "                        pageToken = next_page_token)\n",
    "            response = request.execute()    \n",
    "\n",
    "    return video_ids   \n"
   ]
  },
  {
   "cell_type": "code",
   "execution_count": 10,
   "id": "7c3d9a3a",
   "metadata": {},
   "outputs": [],
   "source": [
    "video_ids = get_video_ids(youtube, playlist_id)"
   ]
  },
  {
   "cell_type": "code",
   "execution_count": 11,
   "id": "1fb51616",
   "metadata": {},
   "outputs": [
    {
     "data": {
      "text/plain": [
       "['DhiFcUMw39A', 'K1gbrySZgM4', 'EW0KoRkxDlg', '1wBheqYbhAc']"
      ]
     },
     "execution_count": 11,
     "metadata": {},
     "output_type": "execute_result"
    }
   ],
   "source": [
    "#The list of Ids from playlist\n",
    "\n",
    "video_ids"
   ]
  },
  {
   "cell_type": "code",
   "execution_count": 12,
   "id": "973ea95e",
   "metadata": {},
   "outputs": [],
   "source": [
    "#Get video statistics of all videos with given IDs (Here you can defined the columns that you want to use )\n",
    "def get_video_details(youtube, video_ids):\n",
    "\n",
    "    all_video_info = []\n",
    "    \n",
    "    request = youtube.videos().list(\n",
    "            part=\"snippet,contentDetails,statistics\",\n",
    "            id=video_ids\n",
    "        )\n",
    "    response = request.execute() \n",
    "\n",
    "    for video in response['items']:\n",
    "            stats_to_keep = {'snippet': ['channelTitle', 'title', 'description', 'publishedAt'],\n",
    "                             'statistics': ['viewCount', 'likeCount', 'commentCount'],\n",
    "                             'contentDetails': ['duration', 'definition']\n",
    "                            }\n",
    "            video_info = {}\n",
    "            video_info['video_id'] = video['id']\n",
    "\n",
    "            for k in stats_to_keep.keys():\n",
    "                for v in stats_to_keep[k]:\n",
    "                    try:\n",
    "                        video_info[v] = video[k][v]\n",
    "                    except:\n",
    "                        video_info[v] = None\n",
    "\n",
    "            all_video_info.append(video_info)\n",
    "\n",
    "    return pd.DataFrame(all_video_info)      \n"
   ]
  },
  {
   "cell_type": "code",
   "execution_count": 13,
   "id": "b0e79452",
   "metadata": {},
   "outputs": [],
   "source": [
    "video_df = get_video_details(youtube, video_ids)"
   ]
  },
  {
   "cell_type": "code",
   "execution_count": 14,
   "id": "ac740c03",
   "metadata": {},
   "outputs": [
    {
     "data": {
      "text/html": [
       "<div>\n",
       "<style scoped>\n",
       "    .dataframe tbody tr th:only-of-type {\n",
       "        vertical-align: middle;\n",
       "    }\n",
       "\n",
       "    .dataframe tbody tr th {\n",
       "        vertical-align: top;\n",
       "    }\n",
       "\n",
       "    .dataframe thead th {\n",
       "        text-align: right;\n",
       "    }\n",
       "</style>\n",
       "<table border=\"1\" class=\"dataframe\">\n",
       "  <thead>\n",
       "    <tr style=\"text-align: right;\">\n",
       "      <th></th>\n",
       "      <th>video_id</th>\n",
       "      <th>channelTitle</th>\n",
       "      <th>title</th>\n",
       "      <th>description</th>\n",
       "      <th>publishedAt</th>\n",
       "      <th>viewCount</th>\n",
       "      <th>likeCount</th>\n",
       "      <th>commentCount</th>\n",
       "      <th>duration</th>\n",
       "      <th>definition</th>\n",
       "    </tr>\n",
       "  </thead>\n",
       "  <tbody>\n",
       "    <tr>\n",
       "      <th>0</th>\n",
       "      <td>DhiFcUMw39A</td>\n",
       "      <td>Cerrado Aquários</td>\n",
       "      <td>Betta de Linhagem - Plakat Pink Salamander  - ...</td>\n",
       "      <td>Para quem deseja adquirir esse Betta ou outros...</td>\n",
       "      <td>2017-10-26T23:05:36Z</td>\n",
       "      <td>6802</td>\n",
       "      <td>292</td>\n",
       "      <td>31</td>\n",
       "      <td>PT3M9S</td>\n",
       "      <td>hd</td>\n",
       "    </tr>\n",
       "    <tr>\n",
       "      <th>1</th>\n",
       "      <td>K1gbrySZgM4</td>\n",
       "      <td>Cerrado Aquários</td>\n",
       "      <td>Meu Peixe Betta Dragon</td>\n",
       "      <td>Siga nosso instagram: https://www.instagram.co...</td>\n",
       "      <td>2017-05-23T22:00:58Z</td>\n",
       "      <td>3085</td>\n",
       "      <td>80</td>\n",
       "      <td>18</td>\n",
       "      <td>PT59S</td>\n",
       "      <td>hd</td>\n",
       "    </tr>\n",
       "    <tr>\n",
       "      <th>2</th>\n",
       "      <td>EW0KoRkxDlg</td>\n",
       "      <td>Cerrado Aquários</td>\n",
       "      <td>Peixe Betta -  Aquário Ideal</td>\n",
       "      <td>Siga nosso instagram: https://www.instagram.co...</td>\n",
       "      <td>2017-02-05T14:30:35Z</td>\n",
       "      <td>54907</td>\n",
       "      <td>1616</td>\n",
       "      <td>328</td>\n",
       "      <td>PT7M48S</td>\n",
       "      <td>hd</td>\n",
       "    </tr>\n",
       "    <tr>\n",
       "      <th>3</th>\n",
       "      <td>1wBheqYbhAc</td>\n",
       "      <td>Cerrado Aquários</td>\n",
       "      <td>Montagem de Aquário para peixe Betta Básico, b...</td>\n",
       "      <td>Siga nosso instagram: https://www.instagram.co...</td>\n",
       "      <td>2017-10-14T22:35:23Z</td>\n",
       "      <td>17930</td>\n",
       "      <td>503</td>\n",
       "      <td>89</td>\n",
       "      <td>PT12M29S</td>\n",
       "      <td>hd</td>\n",
       "    </tr>\n",
       "  </tbody>\n",
       "</table>\n",
       "</div>"
      ],
      "text/plain": [
       "      video_id      channelTitle  \\\n",
       "0  DhiFcUMw39A  Cerrado Aquários   \n",
       "1  K1gbrySZgM4  Cerrado Aquários   \n",
       "2  EW0KoRkxDlg  Cerrado Aquários   \n",
       "3  1wBheqYbhAc  Cerrado Aquários   \n",
       "\n",
       "                                               title  \\\n",
       "0  Betta de Linhagem - Plakat Pink Salamander  - ...   \n",
       "1                             Meu Peixe Betta Dragon   \n",
       "2                       Peixe Betta -  Aquário Ideal   \n",
       "3  Montagem de Aquário para peixe Betta Básico, b...   \n",
       "\n",
       "                                         description           publishedAt  \\\n",
       "0  Para quem deseja adquirir esse Betta ou outros...  2017-10-26T23:05:36Z   \n",
       "1  Siga nosso instagram: https://www.instagram.co...  2017-05-23T22:00:58Z   \n",
       "2  Siga nosso instagram: https://www.instagram.co...  2017-02-05T14:30:35Z   \n",
       "3  Siga nosso instagram: https://www.instagram.co...  2017-10-14T22:35:23Z   \n",
       "\n",
       "  viewCount likeCount commentCount  duration definition  \n",
       "0      6802       292           31    PT3M9S         hd  \n",
       "1      3085        80           18     PT59S         hd  \n",
       "2     54907      1616          328   PT7M48S         hd  \n",
       "3     17930       503           89  PT12M29S         hd  "
      ]
     },
     "execution_count": 14,
     "metadata": {},
     "output_type": "execute_result"
    }
   ],
   "source": [
    "video_df"
   ]
  },
  {
   "cell_type": "code",
   "execution_count": 15,
   "id": "ccada965",
   "metadata": {},
   "outputs": [
    {
     "data": {
      "text/plain": [
       "video_id        False\n",
       "channelTitle    False\n",
       "title           False\n",
       "description     False\n",
       "publishedAt     False\n",
       "viewCount       False\n",
       "likeCount       False\n",
       "commentCount    False\n",
       "duration        False\n",
       "definition      False\n",
       "dtype: bool"
      ]
     },
     "execution_count": 15,
     "metadata": {},
     "output_type": "execute_result"
    }
   ],
   "source": [
    "#Verifying the nulls\n",
    "video_df.isnull().any()"
   ]
  },
  {
   "cell_type": "code",
   "execution_count": 16,
   "id": "052870b4",
   "metadata": {},
   "outputs": [
    {
     "data": {
      "text/plain": [
       "video_id        object\n",
       "channelTitle    object\n",
       "title           object\n",
       "description     object\n",
       "publishedAt     object\n",
       "viewCount       object\n",
       "likeCount       object\n",
       "commentCount    object\n",
       "duration        object\n",
       "definition      object\n",
       "dtype: object"
      ]
     },
     "execution_count": 16,
     "metadata": {},
     "output_type": "execute_result"
    }
   ],
   "source": [
    "#Verifying the types\n",
    "video_df.dtypes"
   ]
  },
  {
   "cell_type": "code",
   "execution_count": 17,
   "id": "e78a846d",
   "metadata": {},
   "outputs": [],
   "source": [
    "#Convert columns to numeric\n",
    "numeric_cols = ['viewCount','likeCount', 'commentCount']\n",
    "video_df[numeric_cols] = video_df[numeric_cols].apply(pd.to_numeric, errors='coerce')"
   ]
  },
  {
   "cell_type": "code",
   "execution_count": 18,
   "id": "cdcbf4b5",
   "metadata": {},
   "outputs": [],
   "source": [
    "#take off the time and let only the date\n",
    "video_df['publishedAt'] = pd.to_datetime(video_df['publishedAt'])\n",
    "video_df['publishedAt'] = video_df['publishedAt'].dt.date"
   ]
  },
  {
   "cell_type": "code",
   "execution_count": 19,
   "id": "e7e9bf39",
   "metadata": {},
   "outputs": [
    {
     "data": {
      "text/plain": [
       "video_id        object\n",
       "channelTitle    object\n",
       "title           object\n",
       "description     object\n",
       "publishedAt     object\n",
       "viewCount        int64\n",
       "likeCount        int64\n",
       "commentCount     int64\n",
       "duration        object\n",
       "definition      object\n",
       "dtype: object"
      ]
     },
     "execution_count": 19,
     "metadata": {},
     "output_type": "execute_result"
    }
   ],
   "source": [
    "#Verifying the types(update)\n",
    "video_df.dtypes"
   ]
  },
  {
   "cell_type": "code",
   "execution_count": 20,
   "id": "e433270e",
   "metadata": {},
   "outputs": [],
   "source": [
    "# convert duration to Seconds\n",
    "video_df['durationSec'] = video_df['duration'].apply(lambda x: isodate.parse_duration(x))\n",
    "video_df['durationSec'] = video_df['durationSec'].astype('timedelta64[s]')"
   ]
  },
  {
   "cell_type": "code",
   "execution_count": 22,
   "id": "72e051f0",
   "metadata": {},
   "outputs": [
    {
     "data": {
      "text/html": [
       "<div>\n",
       "<style scoped>\n",
       "    .dataframe tbody tr th:only-of-type {\n",
       "        vertical-align: middle;\n",
       "    }\n",
       "\n",
       "    .dataframe tbody tr th {\n",
       "        vertical-align: top;\n",
       "    }\n",
       "\n",
       "    .dataframe thead th {\n",
       "        text-align: right;\n",
       "    }\n",
       "</style>\n",
       "<table border=\"1\" class=\"dataframe\">\n",
       "  <thead>\n",
       "    <tr style=\"text-align: right;\">\n",
       "      <th></th>\n",
       "      <th>video_id</th>\n",
       "      <th>channelTitle</th>\n",
       "      <th>title</th>\n",
       "      <th>description</th>\n",
       "      <th>publishedAt</th>\n",
       "      <th>viewCount</th>\n",
       "      <th>likeCount</th>\n",
       "      <th>commentCount</th>\n",
       "      <th>definition</th>\n",
       "      <th>durationSec</th>\n",
       "    </tr>\n",
       "  </thead>\n",
       "  <tbody>\n",
       "    <tr>\n",
       "      <th>0</th>\n",
       "      <td>DhiFcUMw39A</td>\n",
       "      <td>Cerrado Aquários</td>\n",
       "      <td>Betta de Linhagem - Plakat Pink Salamander  - ...</td>\n",
       "      <td>Para quem deseja adquirir esse Betta ou outros...</td>\n",
       "      <td>2017-10-26</td>\n",
       "      <td>6802</td>\n",
       "      <td>292</td>\n",
       "      <td>31</td>\n",
       "      <td>hd</td>\n",
       "      <td>189.0</td>\n",
       "    </tr>\n",
       "    <tr>\n",
       "      <th>1</th>\n",
       "      <td>K1gbrySZgM4</td>\n",
       "      <td>Cerrado Aquários</td>\n",
       "      <td>Meu Peixe Betta Dragon</td>\n",
       "      <td>Siga nosso instagram: https://www.instagram.co...</td>\n",
       "      <td>2017-05-23</td>\n",
       "      <td>3085</td>\n",
       "      <td>80</td>\n",
       "      <td>18</td>\n",
       "      <td>hd</td>\n",
       "      <td>59.0</td>\n",
       "    </tr>\n",
       "    <tr>\n",
       "      <th>2</th>\n",
       "      <td>EW0KoRkxDlg</td>\n",
       "      <td>Cerrado Aquários</td>\n",
       "      <td>Peixe Betta -  Aquário Ideal</td>\n",
       "      <td>Siga nosso instagram: https://www.instagram.co...</td>\n",
       "      <td>2017-02-05</td>\n",
       "      <td>54907</td>\n",
       "      <td>1616</td>\n",
       "      <td>328</td>\n",
       "      <td>hd</td>\n",
       "      <td>468.0</td>\n",
       "    </tr>\n",
       "    <tr>\n",
       "      <th>3</th>\n",
       "      <td>1wBheqYbhAc</td>\n",
       "      <td>Cerrado Aquários</td>\n",
       "      <td>Montagem de Aquário para peixe Betta Básico, b...</td>\n",
       "      <td>Siga nosso instagram: https://www.instagram.co...</td>\n",
       "      <td>2017-10-14</td>\n",
       "      <td>17930</td>\n",
       "      <td>503</td>\n",
       "      <td>89</td>\n",
       "      <td>hd</td>\n",
       "      <td>749.0</td>\n",
       "    </tr>\n",
       "  </tbody>\n",
       "</table>\n",
       "</div>"
      ],
      "text/plain": [
       "      video_id      channelTitle  \\\n",
       "0  DhiFcUMw39A  Cerrado Aquários   \n",
       "1  K1gbrySZgM4  Cerrado Aquários   \n",
       "2  EW0KoRkxDlg  Cerrado Aquários   \n",
       "3  1wBheqYbhAc  Cerrado Aquários   \n",
       "\n",
       "                                               title  \\\n",
       "0  Betta de Linhagem - Plakat Pink Salamander  - ...   \n",
       "1                             Meu Peixe Betta Dragon   \n",
       "2                       Peixe Betta -  Aquário Ideal   \n",
       "3  Montagem de Aquário para peixe Betta Básico, b...   \n",
       "\n",
       "                                         description publishedAt  viewCount  \\\n",
       "0  Para quem deseja adquirir esse Betta ou outros...  2017-10-26       6802   \n",
       "1  Siga nosso instagram: https://www.instagram.co...  2017-05-23       3085   \n",
       "2  Siga nosso instagram: https://www.instagram.co...  2017-02-05      54907   \n",
       "3  Siga nosso instagram: https://www.instagram.co...  2017-10-14      17930   \n",
       "\n",
       "   likeCount  commentCount definition  durationSec  \n",
       "0        292            31         hd        189.0  \n",
       "1         80            18         hd         59.0  \n",
       "2       1616           328         hd        468.0  \n",
       "3        503            89         hd        749.0  "
      ]
     },
     "execution_count": 22,
     "metadata": {},
     "output_type": "execute_result"
    }
   ],
   "source": [
    "#Remove duration column\n",
    "video_df = video_df.drop('duration', axis=1)\n",
    "video_df"
   ]
  },
  {
   "cell_type": "code",
   "execution_count": null,
   "id": "1f982505",
   "metadata": {},
   "outputs": [],
   "source": []
  }
 ],
 "metadata": {
  "kernelspec": {
   "display_name": "Python 3 (ipykernel)",
   "language": "python",
   "name": "python3"
  },
  "language_info": {
   "codemirror_mode": {
    "name": "ipython",
    "version": 3
   },
   "file_extension": ".py",
   "mimetype": "text/x-python",
   "name": "python",
   "nbconvert_exporter": "python",
   "pygments_lexer": "ipython3",
   "version": "3.9.12"
  }
 },
 "nbformat": 4,
 "nbformat_minor": 5
}
